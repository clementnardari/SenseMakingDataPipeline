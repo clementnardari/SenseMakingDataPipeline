{
 "cells": [
  {
   "cell_type": "code",
   "execution_count": 1,
   "id": "160d3e22",
   "metadata": {},
   "outputs": [],
   "source": [
    "#Task Functions (used to facilitate tasks)\n",
    "import urllib. request\n",
    "import time\n",
    "import glob, os\n",
    "import json\n",
    "\n",
    "#create a data folder to store all the raw data\n",
    "if not os.path.exists('data'):\n",
    "    os.mkdir('data')\n",
    "    print(\"Directory data created\")   \n",
    "\n",
    "# pull course catalog pages\n",
    "def catalog():\n",
    "    #list of urls from the MIT course catalog\n",
    "    file = open('./00_urls.txt')\n",
    "    lines = file.readlines()\n",
    "    url_list = [line.rstrip() for line in lines]\n",
    "    \n",
    "    #urls_list = open('./00_urls.txt').readlines()\n",
    "    #print(url_list)\n",
    "    \n",
    "    def pull(url):\n",
    "        response = urllib.request.urlopen(url).read()\n",
    "        data = response.decode('utf-8')\n",
    "        return data\n",
    "    def store(data,file):\n",
    "        # Create path:\n",
    "        path = os.path.join('./data', file)\n",
    "\n",
    "        # Create a file a file\n",
    "        page = os.open(path, os.O_RDWR|os.O_CREAT )\n",
    "\n",
    "        # Write tp the file\n",
    "        os.write(page, data.encode())\n",
    "\n",
    "        # Close the file\n",
    "        os.close(page)\n",
    "\n",
    "        print('wrote file: ' + file)\n",
    "    \n",
    "    def combine():\n",
    "\n",
    "        if os.path.exists('combo.txt'):\n",
    "            os.remove('combo.txt')\n",
    "            print(\"combo.txt removed\") \n",
    "        page = os.open('combo.txt', os.O_RDWR|os.O_CREAT )\n",
    "        os.close(page)\n",
    "        print(\"combo.txt created\") \n",
    "\n",
    "        with open('combo.txt','w') as outfile:\n",
    "            for file in glob.glob(\"./data/*.html\"):\n",
    "                with open(file) as infile:\n",
    "                    outfile.write(infile.read())\n",
    "\n",
    "    #loop through all urls\n",
    "    for url in url_list:\n",
    "        try:\n",
    "            #get page name\n",
    "            file=url.split(\"/\")[-1]\n",
    "            data=pull(url)\n",
    "            store(data,file)        \n",
    "            print(f'Pulled: {url}')\n",
    "            print('--- waiting ---')\n",
    "            time.sleep(15)\n",
    "        except:\n",
    "            print(f'Not found: {url}')\n",
    "        \n",
    "        "
   ]
  },
  {
   "cell_type": "code",
   "execution_count": 3,
   "id": "18f8000e",
   "metadata": {},
   "outputs": [],
   "source": [
    "def combine():\n",
    "        \n",
    "    if os.path.exists('combo.txt'):\n",
    "        os.remove('combo.txt')\n",
    "        print(\"combo.txt removed\") \n",
    "    page = os.open('combo.txt', os.O_RDWR|os.O_CREAT )\n",
    "    os.close(page)\n",
    "    print(\"combo.txt created\") \n",
    "        \n",
    "    with open('combo.txt','w') as outfile:\n",
    "        for file in glob.glob(\"./data/*.html\"):\n",
    "            with open(file) as infile:\n",
    "                outfile.write(infile.read())\n"
   ]
  },
  {
   "cell_type": "code",
   "execution_count": 5,
   "id": "90418caa",
   "metadata": {},
   "outputs": [
    {
     "name": "stdout",
     "output_type": "stream",
     "text": [
      "combo.txt removed\n",
      "combo.txt created\n"
     ]
    }
   ],
   "source": [
    "combine()"
   ]
  },
  {
   "cell_type": "code",
   "execution_count": 31,
   "id": "7f319a4f",
   "metadata": {},
   "outputs": [],
   "source": [
    "url_list = os.open('./00_urls.txt', os.O_RDONLY)\n",
    "# Close the file\n",
    "#    os.close(page)"
   ]
  },
  {
   "cell_type": "code",
   "execution_count": 75,
   "id": "7fec49ed",
   "metadata": {},
   "outputs": [],
   "source": [
    "file = open('./00_urls.txt')\n",
    "url_list = file.readlines()\n",
    "lines = [line.rstrip() for line in lines]"
   ]
  },
  {
   "cell_type": "code",
   "execution_count": 46,
   "id": "94ff4b2c",
   "metadata": {},
   "outputs": [
    {
     "ename": "NameError",
     "evalue": "name 'readlines' is not defined",
     "output_type": "error",
     "traceback": [
      "\u001b[1;31m---------------------------------------------------------------------------\u001b[0m",
      "\u001b[1;31mNameError\u001b[0m                                 Traceback (most recent call last)",
      "Input \u001b[1;32mIn [46]\u001b[0m, in \u001b[0;36m<cell line: 3>\u001b[1;34m()\u001b[0m\n\u001b[0;32m      1\u001b[0m \u001b[38;5;66;03m# Open a file\u001b[39;00m\n\u001b[0;32m      2\u001b[0m fd \u001b[38;5;241m=\u001b[39m os\u001b[38;5;241m.\u001b[39mopen( \u001b[38;5;124m'\u001b[39m\u001b[38;5;124m./00_urls.txt\u001b[39m\u001b[38;5;124m'\u001b[39m, os\u001b[38;5;241m.\u001b[39mO_RDWR\u001b[38;5;241m|\u001b[39mos\u001b[38;5;241m.\u001b[39mO_CREAT )\n\u001b[1;32m----> 3\u001b[0m lines \u001b[38;5;241m=\u001b[39m \u001b[43mreadlines\u001b[49m(fd)\n\u001b[0;32m      4\u001b[0m lines \u001b[38;5;241m=\u001b[39m [line\u001b[38;5;241m.\u001b[39mrstrip() \u001b[38;5;28;01mfor\u001b[39;00m line \u001b[38;5;129;01min\u001b[39;00m lines]\n",
      "\u001b[1;31mNameError\u001b[0m: name 'readlines' is not defined"
     ]
    }
   ],
   "source": [
    "# Open a file\n",
    "fd = os.open( './00_urls.txt', os.O_RDWR|os.O_CREAT )\n",
    "lines = readlines(fd)\n",
    "lines = [line.rstrip() for line in lines]"
   ]
  },
  {
   "cell_type": "code",
   "execution_count": null,
   "id": "b6c0d9c7",
   "metadata": {},
   "outputs": [],
   "source": [
    "index = url.rfind('/') + 1\n",
    "#call pull function\n",
    "\n",
    "file = url[index:]\n",
    "#call store function\n",
    "\n",
    "print('pulled: ' + file)\n",
    "print('--- waiting ---')\n",
    "time.sleep(15)"
   ]
  },
  {
   "cell_type": "code",
   "execution_count": 99,
   "id": "b4b68dee",
   "metadata": {},
   "outputs": [],
   "source": [
    "def combine():\n",
    "    with open('combo.txt','w') as outfile:\n",
    "           for file in glob.glob(\"./data/*.html\"):\n",
    "                with open(file) as infile:\n",
    "                    outfile.write(infile.read())"
   ]
  },
  {
   "cell_type": "code",
   "execution_count": 7,
   "id": "76a39b81",
   "metadata": {},
   "outputs": [],
   "source": [
    "from bs4 import BeautifulSoup\n",
    "def store_json(data,file):\n",
    "       with open(file, 'w', encoding='utf-8') as f:\n",
    "           json.dump(data, f, ensure_ascii=False, indent=4)\n",
    "           print('wrote file: ' + file)"
   ]
  },
  {
   "cell_type": "code",
   "execution_count": 10,
   "id": "3ae3fa29",
   "metadata": {},
   "outputs": [],
   "source": [
    "def titles():\n",
    "    from bs4 import BeautifulSoup\n",
    "    def store_json(data,file):\n",
    "           with open(file, 'w', encoding='utf-8') as f:\n",
    "                json.dump(data, f, ensure_ascii=False, indent=4)\n",
    "                print('wrote file: ' + file)\n",
    "\n",
    "    #Open and read the large html file generated by combine()\n",
    "    with open('combo.txt') as file:\n",
    "        html=file.read()\n",
    "\n",
    "    #the following replaces new line and carriage return char\n",
    "    html = html.replace('\\n', ' ').replace('\\r', '')\n",
    "    #the following create an html parser\n",
    "    soup = BeautifulSoup(html, \"html.parser\")\n",
    "    results = soup.find_all('h3')\n",
    "    titles = []\n",
    "\n",
    "    # tag inner text\n",
    "    for item in results:\n",
    "        titles.append(item.text)\n",
    "    store_json(titles, 'titles.json')"
   ]
  },
  {
   "cell_type": "code",
   "execution_count": 8,
   "id": "f0441481",
   "metadata": {},
   "outputs": [],
   "source": [
    "with open('combo.txt') as file:\n",
    "    file=file.read()"
   ]
  },
  {
   "cell_type": "code",
   "execution_count": 11,
   "id": "8c99f7b9",
   "metadata": {},
   "outputs": [
    {
     "name": "stdout",
     "output_type": "stream",
     "text": [
      "wrote file: titles.json\n"
     ]
    }
   ],
   "source": [
    "titles()"
   ]
  },
  {
   "cell_type": "code",
   "execution_count": null,
   "id": "926cb497",
   "metadata": {},
   "outputs": [],
   "source": []
  }
 ],
 "metadata": {
  "kernelspec": {
   "display_name": "Python 3 (ipykernel)",
   "language": "python",
   "name": "python3"
  },
  "language_info": {
   "codemirror_mode": {
    "name": "ipython",
    "version": 3
   },
   "file_extension": ".py",
   "mimetype": "text/x-python",
   "name": "python",
   "nbconvert_exporter": "python",
   "pygments_lexer": "ipython3",
   "version": "3.9.13"
  }
 },
 "nbformat": 4,
 "nbformat_minor": 5
}
